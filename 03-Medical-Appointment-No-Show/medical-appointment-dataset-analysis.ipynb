{
 "cells": [
  {
   "cell_type": "markdown",
   "metadata": {},
   "source": [
    "<a href=\"https://www.kaggle.com/code/xshaimaa/medical-appointment-dataset-analysis\" target=\"_blank\"><img align=\"left\" alt=\"Kaggle\" title=\"Open in Kaggle\" src=\"https://kaggle.com/static/images/open-in-kaggle.svg\"></a>"
   ]
  },
  {
   "cell_type": "markdown",
   "metadata": {},
   "source": [
    "## Dataset Description \n",
    "A person makes a doctor appointment, receives all the instructions and no-show. Who to blame?\n",
    "This dataset collects information from 100k medical appointments in Brazil and is focused on the question of whether or not patients show up for their appointment. A number of characteristics about the patient are included in each row.\n",
    " \n",
    " \n",
    "## Columns Description\n",
    "1. `PatientId`: Identification of a patient.\n",
    "2. `AppointmentID`: Identification of each appointment.\n",
    "3. `Gender`: Male or Female.\n",
    "4. `AppointmentDay`: The day of the actuall appointment, when they have to visit the doctor.\n",
    "5. `ScheduledDay`: The day someone called or registered the appointment, this is before appointment of course.\n",
    "6. `Age`: How old is the patient.\n",
    "7. `Neighbourhood`: Where the appointment takes place.\n",
    "8. `Scholarship`: True of False, indicates whether or not the patient is enrolled in Brasilian welfare program Bolsa Família.\n",
    "9. `Hipertension`: True or False.\n",
    "10. `Diabetes`: True or False.\n",
    "11. `Alcoholism`: True or False.\n",
    "12. `Handcap`: True or False.\n",
    "13. `SMS_received`: 1 or more messages sent to the patient.\n",
    "14. `No-show`: True (if the patient did not show up), or False (if the patient did show up).\n",
    "\n",
    "\n",
    "## EDA Questions\n",
    "- What factors are important for us to know in order to predict if a patient will show up for their scheduled appointment?\n",
    "___"
   ]
  },
  {
   "cell_type": "markdown",
   "metadata": {},
   "source": [
    "## Environment set-up"
   ]
  },
  {
   "cell_type": "code",
   "execution_count": 1,
   "metadata": {
    "_cell_guid": "b1076dfc-b9ad-4769-8c92-a6c4dae69d19",
    "_uuid": "8f2839f25d086af736a60e9eeb907d3b93b6e0e5",
    "execution": {
     "iopub.execute_input": "2022-03-25T20:06:26.860684Z",
     "iopub.status.busy": "2022-03-25T20:06:26.860236Z",
     "iopub.status.idle": "2022-03-25T20:06:27.474145Z",
     "shell.execute_reply": "2022-03-25T20:06:27.473059Z",
     "shell.execute_reply.started": "2022-03-25T20:06:26.860618Z"
    }
   },
   "outputs": [],
   "source": [
    "# importing lib.\n",
    "import numpy as np \n",
    "import pandas as pd \n",
    "import matplotlib.pyplot as plt\n",
    "import seaborn as sns\n",
    "\n",
    "# getting the csv file directory\n",
    "import os\n",
    "for dirname, _, filenames in os.walk('/kaggle/input'):\n",
    "    for filename in filenames:\n",
    "        print(os.path.join(dirname, filename))"
   ]
  },
  {
   "cell_type": "markdown",
   "metadata": {},
   "source": [
    "## Data Wrangling\n",
    "\n",
    "in this section, we'd load our data from a CSV file to a pandas dataframe, and then take a quick dive into exploring our dataset in details."
   ]
  },
  {
   "cell_type": "code",
   "execution_count": 2,
   "metadata": {
    "execution": {
     "iopub.execute_input": "2022-03-25T20:06:27.480189Z",
     "iopub.status.busy": "2022-03-25T20:06:27.479727Z",
     "iopub.status.idle": "2022-03-25T20:06:27.799605Z",
     "shell.execute_reply": "2022-03-25T20:06:27.798413Z",
     "shell.execute_reply.started": "2022-03-25T20:06:27.480138Z"
    }
   },
   "outputs": [],
   "source": [
    "# loading dataset from csv file and showing its first 5 rows\n",
    "df = pd.read_csv('/kaggle/input/noshowappointments/KaggleV2-May-2016.csv')\n",
    "df.head()"
   ]
  },
  {
   "cell_type": "markdown",
   "metadata": {},
   "source": [
    "We'll move next into exploring our dataset by going through its data types, NaNs or duplicated rows, and any columns that may need to be dropped or parsed."
   ]
  },
  {
   "cell_type": "code",
   "execution_count": 3,
   "metadata": {
    "execution": {
     "iopub.execute_input": "2022-03-25T20:06:27.802018Z",
     "iopub.status.busy": "2022-03-25T20:06:27.801699Z",
     "iopub.status.idle": "2022-03-25T20:06:27.878640Z",
     "shell.execute_reply": "2022-03-25T20:06:27.877617Z",
     "shell.execute_reply.started": "2022-03-25T20:06:27.801988Z"
    }
   },
   "outputs": [],
   "source": [
    "# viewing main info about df\n",
    "df.info()"
   ]
  },
  {
   "cell_type": "markdown",
   "metadata": {},
   "source": [
    "- we can notice there are no NaNs at all in our data\n",
    "- `PatientId` and `AppointmentId` columns wouldn't be helpful during analysis.\n",
    "- `ScheduledDay` and `AppointmentDay` needs to be casted to date data type.\n",
    "- we may append a new column for days until appointment.\n",
    "- `Gender` needs to be converted into a categoy type\n",
    "- `Scholarship` `Hipertension` `Diabetes` `Alcoholism` `Handcap` better be boolean data type.\n",
    "- `No-show` needs to be parsed and casted to boolean too."
   ]
  },
  {
   "cell_type": "code",
   "execution_count": 4,
   "metadata": {
    "execution": {
     "iopub.execute_input": "2022-03-25T20:06:27.880684Z",
     "iopub.status.busy": "2022-03-25T20:06:27.880416Z",
     "iopub.status.idle": "2022-03-25T20:06:27.991662Z",
     "shell.execute_reply": "2022-03-25T20:06:27.990613Z",
     "shell.execute_reply.started": "2022-03-25T20:06:27.880646Z"
    }
   },
   "outputs": [],
   "source": [
    "# checking for duplicates\n",
    "df.duplicated().sum()"
   ]
  },
  {
   "cell_type": "markdown",
   "metadata": {},
   "source": [
    "- our dataset has no duplicated rows either."
   ]
  },
  {
   "cell_type": "code",
   "execution_count": 5,
   "metadata": {
    "execution": {
     "iopub.execute_input": "2022-03-25T20:06:27.994319Z",
     "iopub.status.busy": "2022-03-25T20:06:27.993630Z",
     "iopub.status.idle": "2022-03-25T20:06:28.094582Z",
     "shell.execute_reply": "2022-03-25T20:06:28.093698Z",
     "shell.execute_reply.started": "2022-03-25T20:06:27.994267Z"
    }
   },
   "outputs": [],
   "source": [
    "# exploring the unique values of each column\n",
    "df.nunique()"
   ]
  },
  {
   "cell_type": "markdown",
   "metadata": {},
   "source": [
    "- `Handcap` and `Age` columns has inconsistant unique values.\n",
    "- `SMS_received` would be casted to boolean data type."
   ]
  },
  {
   "cell_type": "code",
   "execution_count": 6,
   "metadata": {
    "execution": {
     "iopub.execute_input": "2022-03-25T20:06:28.098184Z",
     "iopub.status.busy": "2022-03-25T20:06:28.097330Z",
     "iopub.status.idle": "2022-03-25T20:06:28.107135Z",
     "shell.execute_reply": "2022-03-25T20:06:28.106139Z",
     "shell.execute_reply.started": "2022-03-25T20:06:28.098142Z"
    }
   },
   "outputs": [],
   "source": [
    "# exploring handcap values\n",
    "df['Handcap'].value_counts()"
   ]
  },
  {
   "cell_type": "markdown",
   "metadata": {},
   "source": [
    "- we'd be only intrested in rows with `0` or `1` values."
   ]
  },
  {
   "cell_type": "code",
   "execution_count": 7,
   "metadata": {
    "execution": {
     "iopub.execute_input": "2022-03-25T20:06:28.833387Z",
     "iopub.status.busy": "2022-03-25T20:06:28.833041Z",
     "iopub.status.idle": "2022-03-25T20:06:28.850882Z",
     "shell.execute_reply": "2022-03-25T20:06:28.849842Z",
     "shell.execute_reply.started": "2022-03-25T20:06:28.833356Z"
    }
   },
   "outputs": [],
   "source": [
    "# exploring age column distribution\n",
    "df['Age'].describe()"
   ]
  },
  {
   "cell_type": "markdown",
   "metadata": {},
   "source": [
    "- `Age` column would need to be handled."
   ]
  },
  {
   "cell_type": "markdown",
   "metadata": {},
   "source": [
    "## Exploration Summery\n",
    "1. our dataset consists of 110527 rows with 14 columns, and has no NaNs nor duplicated values.\n",
    "2. `PatientId` and `AppointmentId` columns wouldn't be helpful during analysis.\n",
    "3. `ScheduledDay` and `AppointmentDay` needs to be casted to date data type.\n",
    "4. we may append a new column for days until appointment.\n",
    "5. `Gender` needs to be casted into a categoy type\n",
    "6. `Scholarship`, `Hipertension`, `Diabetes`, `Alcoholism` and `SMS_recieved` better be boolean data type.\n",
    "7. `No-show` column needs to be parsed and asted to boolean type.\n",
    "8. `Handcap` colume needs to be cleaned to have only `0` and `1` values.\n",
    "9. `Age` columns has inconsistant unique values that needs to be handled.\n",
    "___"
   ]
  },
  {
   "cell_type": "markdown",
   "metadata": {},
   "source": [
    "## Data Cleaning\n",
    "in this section, we'd perform some operations on our dataset based on the previous findings to make our analysis more accurate and clear."
   ]
  },
  {
   "cell_type": "markdown",
   "metadata": {},
   "source": [
    "___\n",
    "**Dropping `PatientId` and `AppointmentId` columns**"
   ]
  },
  {
   "cell_type": "code",
   "execution_count": 8,
   "metadata": {
    "execution": {
     "iopub.execute_input": "2022-03-25T20:06:31.236484Z",
     "iopub.status.busy": "2022-03-25T20:06:31.236133Z",
     "iopub.status.idle": "2022-03-25T20:06:31.252617Z",
     "shell.execute_reply": "2022-03-25T20:06:31.251861Z",
     "shell.execute_reply.started": "2022-03-25T20:06:31.236448Z"
    }
   },
   "outputs": [],
   "source": [
    "# dropping columns and validating changes\n",
    "df.drop(['PatientId', 'AppointmentID'], axis = 1, inplace = True)\n",
    "df.columns"
   ]
  },
  {
   "cell_type": "markdown",
   "metadata": {},
   "source": [
    "___\n",
    "**Handling `date` data type**"
   ]
  },
  {
   "cell_type": "code",
   "execution_count": 9,
   "metadata": {
    "execution": {
     "iopub.execute_input": "2022-03-25T20:06:32.126427Z",
     "iopub.status.busy": "2022-03-25T20:06:32.126147Z",
     "iopub.status.idle": "2022-03-25T20:06:32.134939Z",
     "shell.execute_reply": "2022-03-25T20:06:32.134114Z",
     "shell.execute_reply.started": "2022-03-25T20:06:32.126398Z"
    }
   },
   "outputs": [],
   "source": [
    "df.AppointmentDay.unique"
   ]
  },
  {
   "cell_type": "markdown",
   "metadata": {},
   "source": [
    "it looks like all hours are set to 00:00:00, so we would want to extract onl the year, month and day data"
   ]
  },
  {
   "cell_type": "code",
   "execution_count": 10,
   "metadata": {
    "execution": {
     "iopub.execute_input": "2022-03-25T20:06:33.232862Z",
     "iopub.status.busy": "2022-03-25T20:06:33.232126Z",
     "iopub.status.idle": "2022-03-25T20:06:33.435356Z",
     "shell.execute_reply": "2022-03-25T20:06:33.434323Z",
     "shell.execute_reply.started": "2022-03-25T20:06:33.232826Z"
    }
   },
   "outputs": [],
   "source": [
    "# extracting only day, month and year values\n",
    "df['ScheduledDay'] = df['ScheduledDay'].str[:10]\n",
    "df['AppointmentDay'] = df['AppointmentDay'].str[:10]\n",
    "\n",
    "# changing data type\n",
    "df['ScheduledDay'] = pd.to_datetime(df['ScheduledDay'])\n",
    "df['AppointmentDay'] = pd.to_datetime(df['AppointmentDay'])\n",
    "\n",
    "# confirming changes\n",
    "print(df[['AppointmentDay', 'ScheduledDay']].dtypes)\n",
    "df.head()"
   ]
  },
  {
   "cell_type": "markdown",
   "metadata": {},
   "source": [
    "Now, we'd move into appending a new column that holds number of days to the appointment."
   ]
  },
  {
   "cell_type": "code",
   "execution_count": 11,
   "metadata": {
    "execution": {
     "iopub.execute_input": "2022-03-25T20:09:14.433279Z",
     "iopub.status.busy": "2022-03-25T20:09:14.432679Z",
     "iopub.status.idle": "2022-03-25T20:09:14.460581Z",
     "shell.execute_reply": "2022-03-25T20:09:14.459615Z",
     "shell.execute_reply.started": "2022-03-25T20:09:14.433229Z"
    }
   },
   "outputs": [],
   "source": [
    "# making new due days column\n",
    "df['due-days'] = df['AppointmentDay'] - df['ScheduledDay']\n",
    "\n",
    "# converting data type \n",
    "df['due-days'] = df['due-days'].dt.days\n",
    "\n",
    "# drop sch and appoint col\n",
    "df.drop(['AppointmentDay', 'ScheduledDay'], axis = 1, inplace = True)"
   ]
  },
  {
   "cell_type": "markdown",
   "metadata": {},
   "source": [
    "We'll move into exploring this new column."
   ]
  },
  {
   "cell_type": "code",
   "execution_count": 12,
   "metadata": {
    "execution": {
     "iopub.execute_input": "2022-03-25T20:10:34.637854Z",
     "iopub.status.busy": "2022-03-25T20:10:34.637258Z",
     "iopub.status.idle": "2022-03-25T20:10:34.655340Z",
     "shell.execute_reply": "2022-03-25T20:10:34.654193Z",
     "shell.execute_reply.started": "2022-03-25T20:10:34.637800Z"
    }
   },
   "outputs": [],
   "source": [
    "# viewing summery statistics\n",
    "df['due-days'].describe()"
   ]
  },
  {
   "cell_type": "markdown",
   "metadata": {},
   "source": [
    "We seem to have some negative values here, we'll drop them."
   ]
  },
  {
   "cell_type": "code",
   "execution_count": 13,
   "metadata": {
    "execution": {
     "iopub.execute_input": "2022-03-25T20:11:39.302799Z",
     "iopub.status.busy": "2022-03-25T20:11:39.302193Z",
     "iopub.status.idle": "2022-03-25T20:11:39.319593Z",
     "shell.execute_reply": "2022-03-25T20:11:39.318860Z",
     "shell.execute_reply.started": "2022-03-25T20:11:39.302728Z"
    }
   },
   "outputs": [],
   "source": [
    "# viewing negative days values\n",
    "df[df['due-days'] < 0 ]"
   ]
  },
  {
   "cell_type": "code",
   "execution_count": 14,
   "metadata": {
    "execution": {
     "iopub.execute_input": "2022-03-25T20:12:19.587011Z",
     "iopub.status.busy": "2022-03-25T20:12:19.586639Z",
     "iopub.status.idle": "2022-03-25T20:12:19.615408Z",
     "shell.execute_reply": "2022-03-25T20:12:19.614395Z",
     "shell.execute_reply.started": "2022-03-25T20:12:19.586976Z"
    }
   },
   "outputs": [],
   "source": [
    "# dropping these values and confirming changes\n",
    "df.drop(df[df['due-days'] < 0].index, inplace = True)\n",
    "df['due-days'].describe()"
   ]
  },
  {
   "cell_type": "markdown",
   "metadata": {},
   "source": [
    "___\n",
    "**Converting `Gender` and `No-show` to categorical variables**"
   ]
  },
  {
   "cell_type": "code",
   "execution_count": 15,
   "metadata": {
    "execution": {
     "iopub.execute_input": "2022-03-25T20:14:53.053872Z",
     "iopub.status.busy": "2022-03-25T20:14:53.053492Z",
     "iopub.status.idle": "2022-03-25T20:14:53.076448Z",
     "shell.execute_reply": "2022-03-25T20:14:53.075482Z",
     "shell.execute_reply.started": "2022-03-25T20:14:53.053835Z"
    }
   },
   "outputs": [],
   "source": [
    "# converting column and confirming changes\n",
    "df['Gender'] = df['Gender'].astype('category')\n",
    "\n",
    "df['Gender'].dtypes"
   ]
  },
  {
   "cell_type": "markdown",
   "metadata": {},
   "source": [
    "___\n",
    "**Converting `Scholarship`, `Hipertension`, `Diabetes`, `Alcoholism`, `Handcap` and `SMS_recieved` to boolean data type**"
   ]
  },
  {
   "cell_type": "code",
   "execution_count": 16,
   "metadata": {
    "execution": {
     "iopub.execute_input": "2022-03-25T20:17:37.632703Z",
     "iopub.status.busy": "2022-03-25T20:17:37.632370Z",
     "iopub.status.idle": "2022-03-25T20:17:37.655680Z",
     "shell.execute_reply": "2022-03-25T20:17:37.654405Z",
     "shell.execute_reply.started": "2022-03-25T20:17:37.632669Z"
    }
   },
   "outputs": [],
   "source": [
    "# converting columns to bool and confirming changes\n",
    "cols = ['Scholarship', 'Hipertension', 'Diabetes', 'Alcoholism', 'SMS_received']\n",
    "df[cols] = df[cols].astype('bool')\n",
    "df[cols].dtypes"
   ]
  },
  {
   "cell_type": "markdown",
   "metadata": {},
   "source": [
    "___\n",
    "**Parsing and casting `No-show` column**"
   ]
  },
  {
   "cell_type": "code",
   "execution_count": 17,
   "metadata": {
    "execution": {
     "iopub.execute_input": "2022-03-25T20:19:46.567296Z",
     "iopub.status.busy": "2022-03-25T20:19:46.566204Z",
     "iopub.status.idle": "2022-03-25T20:19:46.627155Z",
     "shell.execute_reply": "2022-03-25T20:19:46.625937Z",
     "shell.execute_reply.started": "2022-03-25T20:19:46.567232Z"
    }
   },
   "outputs": [],
   "source": [
    "# mapping alues to be more familiar\n",
    "df.loc[df['No-show'] == 'Yes', 'No-show'] = 0\n",
    "df.loc[df['No-show'] == 'No', 'No-show'] = 1\n",
    "\n",
    "# casting dt type and confirming changes\n",
    "df['No-show'] = df['No-show'].astype(bool)\n",
    "df['No-show'].dtypes"
   ]
  },
  {
   "cell_type": "markdown",
   "metadata": {},
   "source": [
    "___\n",
    "**Cleaning `Handcap` column**"
   ]
  },
  {
   "cell_type": "code",
   "execution_count": 18,
   "metadata": {
    "execution": {
     "iopub.execute_input": "2022-03-25T20:21:20.840281Z",
     "iopub.status.busy": "2022-03-25T20:21:20.839948Z",
     "iopub.status.idle": "2022-03-25T20:21:20.869465Z",
     "shell.execute_reply": "2022-03-25T20:21:20.868490Z",
     "shell.execute_reply.started": "2022-03-25T20:21:20.840242Z"
    }
   },
   "outputs": [],
   "source": [
    "# viewing rows with values of handcap > 1\n",
    "df[df['Handcap'] > 1]"
   ]
  },
  {
   "cell_type": "markdown",
   "metadata": {},
   "source": [
    "We have 199 rows with inconsistant values, we'd replace them with 1 to treat them as beeing handcaped"
   ]
  },
  {
   "cell_type": "code",
   "execution_count": 19,
   "metadata": {
    "execution": {
     "iopub.execute_input": "2022-03-25T20:22:48.548307Z",
     "iopub.status.busy": "2022-03-25T20:22:48.547991Z",
     "iopub.status.idle": "2022-03-25T20:22:48.567729Z",
     "shell.execute_reply": "2022-03-25T20:22:48.566511Z",
     "shell.execute_reply.started": "2022-03-25T20:22:48.548278Z"
    }
   },
   "outputs": [],
   "source": [
    "# filling the bigger values with 1\n",
    "df.loc[df['Handcap'].isin([2, 3, 4]), 'Handcap'] = 1\n",
    "\n",
    "# casting type and confirming changes\n",
    "df['Handcap'] = df['Handcap'].astype('bool')\n",
    "df['Handcap'].unique()"
   ]
  },
  {
   "cell_type": "markdown",
   "metadata": {},
   "source": [
    "___\n",
    "**Cleaning `Age` column**"
   ]
  },
  {
   "cell_type": "code",
   "execution_count": 20,
   "metadata": {
    "execution": {
     "iopub.execute_input": "2022-03-25T20:23:10.931041Z",
     "iopub.status.busy": "2022-03-25T20:23:10.929755Z",
     "iopub.status.idle": "2022-03-25T20:23:10.947808Z",
     "shell.execute_reply": "2022-03-25T20:23:10.946718Z",
     "shell.execute_reply.started": "2022-03-25T20:23:10.930994Z"
    }
   },
   "outputs": [],
   "source": [
    "#exploring values below 0\n",
    "df[df['Age'] < 0]"
   ]
  },
  {
   "cell_type": "markdown",
   "metadata": {},
   "source": [
    "- we have one value with negative age, so we will drop it"
   ]
  },
  {
   "cell_type": "code",
   "execution_count": 21,
   "metadata": {
    "execution": {
     "iopub.execute_input": "2022-03-25T20:23:43.148215Z",
     "iopub.status.busy": "2022-03-25T20:23:43.147901Z",
     "iopub.status.idle": "2022-03-25T20:23:43.176943Z",
     "shell.execute_reply": "2022-03-25T20:23:43.176294Z",
     "shell.execute_reply.started": "2022-03-25T20:23:43.148184Z"
    }
   },
   "outputs": [],
   "source": [
    "# dropping row with negative age and confirming changes\n",
    "df.drop(df[df['Age'] < 0].index, inplace = True)\n",
    "df[df['Age'] < 0]"
   ]
  },
  {
   "cell_type": "markdown",
   "metadata": {},
   "source": [
    "___"
   ]
  },
  {
   "cell_type": "code",
   "execution_count": 22,
   "metadata": {
    "execution": {
     "iopub.execute_input": "2022-03-25T20:24:45.533282Z",
     "iopub.status.busy": "2022-03-25T20:24:45.532147Z",
     "iopub.status.idle": "2022-03-25T20:24:45.552971Z",
     "shell.execute_reply": "2022-03-25T20:24:45.552105Z",
     "shell.execute_reply.started": "2022-03-25T20:24:45.533226Z"
    }
   },
   "outputs": [],
   "source": [
    "df.head()"
   ]
  },
  {
   "cell_type": "code",
   "execution_count": 24,
   "metadata": {
    "execution": {
     "iopub.execute_input": "2022-03-25T20:24:59.519635Z",
     "iopub.status.busy": "2022-03-25T20:24:59.518985Z",
     "iopub.status.idle": "2022-03-25T20:24:59.550479Z",
     "shell.execute_reply": "2022-03-25T20:24:59.549550Z",
     "shell.execute_reply.started": "2022-03-25T20:24:59.519582Z"
    }
   },
   "outputs": [],
   "source": [
    "df.info()"
   ]
  },
  {
   "cell_type": "markdown",
   "metadata": {},
   "source": [
    "We endded up with a datafram of 110521 rows and 11 columns, and everything looks tidy and clean. We'd proceed in visualizing it to extract meaningful insights from it.\n",
    "___"
   ]
  },
  {
   "cell_type": "code",
   "execution_count": null,
   "metadata": {},
   "outputs": [],
   "source": []
  }
 ],
 "metadata": {
  "kernelspec": {
   "display_name": "Python 3 (ipykernel)",
   "language": "python",
   "name": "python3"
  },
  "language_info": {
   "codemirror_mode": {
    "name": "ipython",
    "version": 3
   },
   "file_extension": ".py",
   "mimetype": "text/x-python",
   "name": "python",
   "nbconvert_exporter": "python",
   "pygments_lexer": "ipython3",
   "version": "3.8.3"
  }
 },
 "nbformat": 4,
 "nbformat_minor": 4
}
